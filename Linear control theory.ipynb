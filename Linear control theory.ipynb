{
  "nbformat": 4,
  "nbformat_minor": 0,
  "metadata": {
    "colab": {
      "provenance": []
    },
    "kernelspec": {
      "name": "python3",
      "display_name": "Python 3"
    },
    "language_info": {
      "name": "python"
    }
  },
  "cells": [
    {
      "cell_type": "code",
      "execution_count": null,
      "metadata": {
        "id": "UlU63oxwwMnh"
      },
      "outputs": [],
      "source": [
        "import numpy as np\n",
        "from scipy.linalg import solve_continuous_are"
      ]
    },
    {
      "cell_type": "code",
      "source": [
        "# Task 4.1: Checking Controllability and Observability\n",
        "\n",
        "A = np.array([[0, 1, 0], [0, 1, 1], [1, 2, 3]])\n",
        "B = np.array([[1], [0], [0]])\n",
        "C = np.array([[1, 0, 1]])\n",
        "D = np.array([[1]])"
      ],
      "metadata": {
        "id": "NuqokeoFxEJ8"
      },
      "execution_count": null,
      "outputs": []
    },
    {
      "cell_type": "code",
      "source": [
        "# Compute the observability matrix\n",
        "\n",
        "A = np.array([[0, 1, 0], [0, 1, 1], [1, 2, 3]])\n",
        "C = np.array([[1, 0, 1]])\n",
        "\n",
        "# Compute the observability matrix\n",
        "Obsv = np.vstack([C, C @ A, C @ A @ A])\n",
        "\n",
        "# Compute the rank\n",
        "rank_O = np.linalg.matrix_rank(Obsv)\n",
        "n = A.shape[0]  # Number of states\n",
        "\n",
        "if rank_O == n:\n",
        "    print(\"The system is observable.\")\n",
        "else:\n",
        "    print(\"The system is not observable.\")\n",
        "\n",
        "print(\"Observability matrix:\\n\", Obsv)\n",
        "print(\"Rank of the observability matrix:\", rank_O)\n"
      ],
      "metadata": {
        "colab": {
          "base_uri": "https://localhost:8080/"
        },
        "id": "yYo_ftIdxo4B",
        "outputId": "d267a904-8921-4d5d-cd2b-bf32c107b467"
      },
      "execution_count": null,
      "outputs": [
        {
          "output_type": "stream",
          "name": "stdout",
          "text": [
            "The system is observable.\n",
            "Observability matrix:\n",
            " [[ 1  0  1]\n",
            " [ 1  3  3]\n",
            " [ 3 10 12]]\n",
            "Rank of the observability matrix: 3\n"
          ]
        }
      ]
    },
    {
      "cell_type": "code",
      "source": [
        "# Rank of controllability matrix\n",
        "\n",
        "A = np.array([[0, 1, 0], [0, 1, 1], [1, 2, 3]])\n",
        "B = np.array([[1], [0], [0]])\n",
        "\n",
        "# Compute the controllability matrix\n",
        "Ctrb = np.hstack([B, A @ B, A @ A @ B])\n",
        "\n",
        "# Compute the rank\n",
        "rank_C = np.linalg.matrix_rank(Ctrb)\n",
        "n = A.shape[0]  # Number of states\n",
        "\n",
        "if rank_C == n:\n",
        "    print(\"The system is controllable.\")\n",
        "else:\n",
        "    print(\"The system is not controllable.\")\n",
        "\n",
        "print(\"Controllability matrix:\\n\", Ctrb)\n",
        "print(\"Rank of the controllability matrix:\", rank_C)\n"
      ],
      "metadata": {
        "colab": {
          "base_uri": "https://localhost:8080/"
        },
        "id": "Mz_z7kJixo93",
        "outputId": "27c29fee-8777-4891-f2e0-a68bd4a09090"
      },
      "execution_count": null,
      "outputs": [
        {
          "output_type": "stream",
          "name": "stdout",
          "text": [
            "The system is controllable.\n",
            "Controllability matrix:\n",
            " [[1 0 0]\n",
            " [0 0 1]\n",
            " [0 1 3]]\n",
            "Rank of the controllability matrix: 3\n"
          ]
        }
      ]
    },
    {
      "cell_type": "code",
      "source": [
        "# Task 4.2: Finding a Feedback Control Law\n",
        "A2 = np.array([[1, 1], [1, 2]])\n",
        "B2 = np.array([[1], [0]])"
      ],
      "metadata": {
        "id": "_sgmVjSVx3gV"
      },
      "execution_count": null,
      "outputs": []
    },
    {
      "cell_type": "code",
      "source": [
        "# Solve the continuous-time algebraic Riccati equation\n",
        "Q = np.eye(2)  # State cost matrix\n",
        "R = np.eye(1)  # Control cost matrix\n",
        "\n",
        "P = solve_continuous_are(A2, B2, Q, R)"
      ],
      "metadata": {
        "id": "uji4eCsFx3ih"
      },
      "execution_count": null,
      "outputs": []
    },
    {
      "cell_type": "code",
      "source": [
        "# Compute the optimal feedback gain K\n",
        "K = np.linalg.inv(R) @ B2.T @ P\n",
        "\n",
        "print(\"Feedback gain K:\", K)\n",
        "print(\"Closed-loop eigenvalues:\", eigenvalues)\n",
        "\n",
        "# Check stability\n",
        "if np.all(np.real(eigenvalues) < 0):\n",
        "    print(\"The system is stable.\")\n",
        "else:\n",
        "    print(\"The system is NOT stable.\")"
      ],
      "metadata": {
        "colab": {
          "base_uri": "https://localhost:8080/"
        },
        "id": "RDm9E5DRx3k7",
        "outputId": "e885cea3-02eb-4463-e2d7-b968fa4935cd"
      },
      "execution_count": null,
      "outputs": [
        {
          "output_type": "stream",
          "name": "stdout",
          "text": [
            "Feedback gain K: [[ 6.59151493 14.6325196 ]]\n",
            "Closed-loop eigenvalues: [-2.6762432  -0.91527173]\n",
            "The system is stable.\n"
          ]
        }
      ]
    },
    {
      "cell_type": "code",
      "source": [
        "import numpy as np\n",
        "from scipy.linalg import solve_continuous_are\n",
        "\n",
        "# Define A and B matrices\n",
        "A = np.array([[1, 1], [1, 2]])\n",
        "B = np.array([[1], [0]])\n",
        "\n",
        "# Define cost matrices for Riccati equation\n",
        "Q = np.eye(2)\n",
        "R = np.eye(1)\n",
        "\n",
        "# Solve Riccati equation\n",
        "P = solve_continuous_are(A, B, Q, R)\n",
        "\n",
        "# Compute the optimal feedback gain\n",
        "K = np.linalg.inv(R) @ B.T @ P\n",
        "\n",
        "# Compute the closed-loop matrix\n",
        "A_cl = A - B @ K\n",
        "\n",
        "# Compute eigenvalues\n",
        "eigenvalues = np.linalg.eigvals(A_cl)\n",
        "\n",
        "print(\"Optimal feedback gain K:\", K)\n",
        "print(\"Closed-loop eigenvalues:\", eigenvalues)\n",
        "\n",
        "# Check stability\n",
        "if np.all(np.real(eigenvalues) < 0):\n",
        "    print(\"The system is stable.\")\n",
        "else:\n",
        "    print(\"The system is NOT stable.\")\n"
      ],
      "metadata": {
        "colab": {
          "base_uri": "https://localhost:8080/"
        },
        "id": "XhZ1XQ4T1AIp",
        "outputId": "773d129f-ef19-4b38-e915-ff756ec01cfa"
      },
      "execution_count": null,
      "outputs": [
        {
          "output_type": "stream",
          "name": "stdout",
          "text": [
            "Optimal feedback gain K: [[ 6.59151493 14.6325196 ]]\n",
            "Closed-loop eigenvalues: [-2.6762432  -0.91527173]\n",
            "The system is stable.\n"
          ]
        }
      ]
    }
  ]
}